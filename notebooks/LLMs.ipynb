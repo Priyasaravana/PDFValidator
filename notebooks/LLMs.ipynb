{
 "cells": [
  {
   "cell_type": "code",
   "execution_count": 2,
   "metadata": {},
   "outputs": [
    {
     "name": "stdout",
     "output_type": "stream",
     "text": [
      "A large language model (LLM) is a type of artificial intelligence (AI) designed to process and generate human-like text at an unprecedented scale. LLMs are trained on vast amounts of text data, allowing them to learn patterns, relationships, and nuances in language that enable them to understand and respond to natural language inputs.\n",
      "\n",
      "Characteristics of Large Language Models:\n",
      "\n",
      "1. **Scale**: LLMs are massive in size, often consisting of billions or even trillions of parameters, which allows them to capture complex relationships between words.\n",
      "2. **Training data**: They're trained on enormous datasets, typically sourced from the internet, books, and other sources, allowing them to learn about various topics, styles, and languages.\n",
      "3. **Self-supervised learning**: LLMs often use self-supervised learning techniques, where they're trained to predict specific aspects of text, such as next words or sentence completions, rather than being explicitly supervised with labeled data.\n",
      "4. **Transformer architecture**: Many LLMs are built using the transformer architecture, which is particularly well-suited for processing sequential data like text.\n",
      "\n",
      "Applications of Large Language Models:\n",
      "\n",
      "1. **Natural Language Processing (NLP)**: LLMs excel in various NLP tasks, such as language translation, question answering, sentiment analysis, and text summarization.\n",
      "2. **Text generation**: They can generate human-like text, including articles, stories, dialogues, and even entire books.\n",
      "3. **Chatbots and virtual assistants**: LLMs power conversational AI systems, enabling them to understand and respond to user queries in a more natural way.\n",
      "4. **Content creation**: They can assist in content generation, such as writing product descriptions, generating ideas for stories or articles, and creating social media posts.\n",
      "\n",
      "Examples of Large Language Models:\n",
      "\n",
      "1. **BERT (Bidirectional Encoder Representations from Transformers)**: Developed by Google, BERT is a popular LLM that has achieved state-of-the-art results on many NLP tasks.\n",
      "2. **RoBERTa (Robustly Optimized BERT Pretraining Approach)**: Another influential LLM, RoBERTa was developed by Facebook AI and has been shown to perform well on various NLP benchmarks.\n",
      "3. **T5 (Text-to-Text Transformer)**: T5 is a text-to-text LLM that can be fine-tuned for specific tasks, such as language translation or question answering.\n",
      "\n",
      "As the size of these models increases, they're capable of handling more complex tasks and generating more coherent, natural-sounding text.\n"
     ]
    }
   ],
   "source": [
    "import ollama\n",
    "\n",
    "response = ollama.generate(model='llama3:8b',\n",
    "            prompt='what is a Large language model?')\n",
    "print(response['response'])"
   ]
  },
  {
   "cell_type": "code",
   "execution_count": 1,
   "metadata": {},
   "outputs": [],
   "source": [
    "dctSummarize = {\n",
    "    \"Extracted Data\": {\n",
    "        \"Company Name\": \"HealthInc\",\n",
    "        \"Industry\": \"Healthcare\",\n",
    "        \"Market Capitalization\": 3000,\n",
    "        \"Revenue (in millions)\": 1000,\n",
    "        \"EBITDA (in millions)\": 250,\n",
    "        \"Net Income (in millions)\": 80,\n",
    "        \"Debt (in millions)\": 150,\n",
    "        \"Equity (in millions)\": 666,\n",
    "        \"Enterprise Value (in millions)\": 3150,\n",
    "        \"P/E Ratio\": 15,\n",
    "        \"Revenue Growth Rate (%)\": 12,\n",
    "        \"EBITDA Margin (%)\": 40,\n",
    "        \"Net Income Margin (%)\": 8,\n",
    "        \"ROE (Return on Equity) (%)\": 13.33,\n",
    "        \"ROA (Return on Assets) (%)\": 10,\n",
    "        \"Debt to Equity Ratio\": 0.25,\n",
    "        \"Location\": \"New York, NY\",\n",
    "        \"CEO\": \"Jane Smith\",\n",
    "        \"Number of Employees\": 3000\n",
    "    },\n",
    "    \"Internal Data\": {\n",
    "        \"Company Name\": \"HealthInc\",\n",
    "        \"Industry\": \"Healthcare\",\n",
    "        \"Market Capitalization\": 3000,\n",
    "        \"Revenue (in millions)\": 1000,\n",
    "        \"EBITDA (in millions)\": 250,\n",
    "        \"Net Income (in millions)\": 80,\n",
    "        \"Debt (in millions)\": 150,\n",
    "        \"Equity (in millions)\": 600,\n",
    "        \"Enterprise Value (in millions)\": 3150,\n",
    "        \"P/E Ratio\": 15,\n",
    "        \"Revenue Growth Rate (%)\": 12,\n",
    "        \"EBITDA Margin (%)\": 25.0,\n",
    "        \"Net Income Margin (%)\": 8.0,\n",
    "        \"ROE (Return on Equity) (%)\": 13.33,\n",
    "        \"ROA (Return on Assets) (%)\": 10.0,\n",
    "        \"Current Ratio\": 2.0,\n",
    "        \"Debt to Equity Ratio\": 0.25,\n",
    "        \"Location\": \"New York\"\n",
    "    },\n",
    "    \"Discrepancies\": {\n",
    "        \"Equity (in millions)\": {\n",
    "            \"Extracted\": 666,\n",
    "            \"Internal\": 600\n",
    "        },\n",
    "        \"EBITDA Margin (%)\": {\n",
    "            \"Extracted\": 40,\n",
    "            \"Internal\": 25.0\n",
    "        },\n",
    "        \"Location\": {\n",
    "            \"Extracted\": \"New York, NY\",\n",
    "            \"Internal\": \"New York\"\n",
    "        }\n",
    "    },\n",
    "    \"Missing in Extracted Data\": [\n",
    "        \"Current Ratio\"\n",
    "    ],\n",
    "    \"Missing in Internal Data\": [\n",
    "        \"CEO\",\n",
    "        \"Number of Employees\"\n",
    "    ]\n",
    "}"
   ]
  },
  {
   "cell_type": "code",
   "execution_count": 3,
   "metadata": {},
   "outputs": [],
   "source": [
    "from LLM.llms_openAI import prompttemplate, extractPromptData\n",
    "from langchain_core.output_parsers import StrOutputParser\n",
    "from langchain_community.llms import Ollama\n",
    "from LLM.chain import create_prompt_template\n",
    "from langchain_core.prompts import PromptTemplate\n",
    "import ollama"
   ]
  },
  {
   "cell_type": "code",
   "execution_count": 10,
   "metadata": {},
   "outputs": [],
   "source": [
    "company_name = 'HealthInc'\n",
    "\n",
    "   "
   ]
  },
  {
   "cell_type": "code",
   "execution_count": 6,
   "metadata": {},
   "outputs": [],
   "source": [
    "promp_template = prompttemplate()\n",
    "input_variables = [\"internal_data\", \"external_data\", \"discrepancy_fields\", \"missing_extracted_fields\", \"missing_internal_fields\", \"company name\"]\n",
    "\n",
    "# Create the PromptTemplate instance\n",
    "prompt = PromptTemplate(input_variables=input_variables, template=promp_template)\n",
    "llm = Ollama(model=\"llama3:8b\")\n",
    "chain =  prompt | llm | StrOutputParser()\n",
    "data_with_prompt_data = extractPromptData(dctSummarize, company_name)\n",
    "summary = chain.invoke(data_with_prompt_data)"
   ]
  },
  {
   "cell_type": "code",
   "execution_count": 7,
   "metadata": {},
   "outputs": [
    {
     "name": "stdout",
     "output_type": "stream",
     "text": [
      "**Data Source Comparison Check Summary**\n",
      "=====================================\n",
      "\n",
      "### Internal Data vs. External Data Comparison\n",
      "\n",
      "After reviewing the internal and external data sources, we identified discrepancies in the following fields:\n",
      "\n",
      "* **Equity (in millions)**: The internal data source reports an equity value of 600 million, whereas the external data source reports a value of 666 million.\n",
      "* **EBITDA Margin (%)**: The internal data source reports an EBITDA margin of 25.0%, whereas the external data source reports a margin of 40%.\n",
      "* **Location**: Although both sources report New York as the location, the external data source includes an additional detail (New York, NY).\n",
      "\n",
      "We also identified missing fields from each source:\n",
      "\n",
      "* **Missing from Extracted Data:** Current Ratio\n",
      "* **Missing from Internal Data:** CEO, Number of Employees\n",
      "\n",
      "### Discrepancy Analysis\n",
      "\n",
      "The discrepancies in equity values may indicate a potential error or difference in reporting methodologies. The disparity in EBITDA margins could be due to differences in accounting treatments or industry standards. The variation in location details may be attributed to slight differences in formatting or data sources.\n",
      "\n",
      "These discrepancies can impact the system by:\n",
      "\n",
      "* Affecting financial modeling and forecasting accuracy\n",
      "* Influencing investment decisions based on incorrect or incomplete information\n",
      "* Leading to inconsistencies in data visualization and reporting\n",
      "\n",
      "### Recommendations\n",
      "\n",
      "To enhance data quality and consistency, we recommend:\n",
      "\n",
      "1. Verifying the equity value with the company or a secondary source to ensure accuracy.\n",
      "2. Investigating the EBITDA margin discrepancies to determine the root cause (e.g., accounting differences).\n",
      "3. Standardizing location formatting across both sources.\n",
      "\n",
      "By addressing these discrepancies and missing fields, we can improve data reliability and provide more accurate insights for real-time fund and portfolio analytics.\n",
      "\n",
      "**Summary**\n",
      "\n",
      "In conclusion, our comparison of internal and external data sources revealed discrepancies in equity values, EBITDA margins, and location details. Additionally, we identified missing fields from both sources. By understanding these differences and taking steps to address them, we can enhance data quality and provide more accurate insights for real-time fund and portfolio analytics.\n"
     ]
    }
   ],
   "source": [
    "print(summary)"
   ]
  },
  {
   "cell_type": "code",
   "execution_count": 5,
   "metadata": {},
   "outputs": [],
   "source": [
    "from langchain_openai import ChatOpenAI"
   ]
  },
  {
   "cell_type": "code",
   "execution_count": 7,
   "metadata": {},
   "outputs": [],
   "source": [
    "def extractPromptdetails(dctSummarize):\n",
    "        # Construct the findings string dynamically based on data dictionary\n",
    "    finding_lines = []\n",
    "    for field, discrepancy in dctSummarize[\"Discrepancies\"].items():\n",
    "        extracted_value = dctSummarize[\"Extracted Data\"][field]\n",
    "        internal_value = dctSummarize[\"Internal Data\"][field]\n",
    "        finding_lines.append(f\"\\n* Discrepancy in {field}:\")\n",
    "        finding_lines.append(f\"  * Extracted Data: {extracted_value}\")\n",
    "        finding_lines.append(f\"  * Internal Data: {internal_value}\")\n",
    "\n",
    "    for missing_field in dctSummarize[\"Missing in Extracted Data\"]:\n",
    "        finding_lines.append(f\"\\n* Missing field in Extracted Data: {missing_field}\")\n",
    "\n",
    "    for missing_field in dctSummarize[\"Missing in Internal Data\"]:\n",
    "        finding_lines.append(f\"\\n* Missing field in Internal Data: {missing_field}\")\n",
    "\n",
    "    findings_str = \"\\n\".join(finding_lines)\n",
    "    return findings_str"
   ]
  },
  {
   "cell_type": "code",
   "execution_count": 11,
   "metadata": {},
   "outputs": [],
   "source": [
    "# Define a template for the prompt with placeholders\n",
    "prompt_template = \"\"\"Based on the analysis of financial data from two sources for {company_name}, the following key findings can be summarized regarding its financial health:\n",
    "\n",
    "{findings}\n",
    "\n",
    "Overall, the discrepancies and missing information in the financial data of {company_name} raise concerns about the accuracy, transparency, and completeness of the company's financial reporting. These gaps make it challenging to make a comprehensive assessment of {company_name}'s financial health.\n",
    "\"\"\"\n",
    "\n",
    "# Specify input variables for the template\n",
    "input_variables = [\"company_name\", \"findings\"]\n",
    "\n",
    "# Create the PromptTemplate instance\n",
    "prompt = PromptTemplate(input_variables=input_variables, template=prompt_template)\n",
    "\n",
    "# Define LLM chain\n",
    "llm = ChatOpenAI(temperature=0, model_name=\"gpt-3.5-turbo-16k\")\n",
    "\n",
    "findings_str = extractPromptdetails(dctSummarize)\n",
    "\n",
    "# Prepare data dictionary with company name and findings\n",
    "data = {\n",
    "\"company_name\": company_name,\n",
    "\"findings\": findings_str\n",
    "}\n",
    "\n",
    "chain = prompt | llm | StrOutputParser()\n",
    "\n",
    "# Run the LLM chain with prepared data\n",
    "summary = chain.invoke(data)"
   ]
  },
  {
   "cell_type": "code",
   "execution_count": 13,
   "metadata": {},
   "outputs": [
    {
     "name": "stdout",
     "output_type": "stream",
     "text": [
      "The discrepancy in equity between the extracted data and internal data suggests that there may be inconsistencies in how the company's equity is reported. This could be due to errors in data extraction or discrepancies in the company's financial records.\n",
      "\n",
      "The difference in EBITDA margin indicates a significant variation in the company's profitability. The extracted data shows a higher EBITDA margin of 40%, while the internal data reports a lower margin of 25%. This difference could be attributed to different calculation methods or inaccuracies in the data sources.\n",
      "\n",
      "The discrepancy in location, with the extracted data specifying \"New York, NY\" and the internal data stating \"New York,\" raises questions about the accuracy of the company's location information. It is important to have consistent and accurate location data for financial analysis and reporting purposes.\n",
      "\n",
      "The missing field of the current ratio in the extracted data suggests that this important financial metric is not available for analysis. The current ratio is a measure of a company's liquidity and ability to meet short-term obligations. Its absence makes it difficult to assess HealthInc's short-term financial health.\n",
      "\n",
      "The missing fields in the internal data, specifically the CEO and number of employees, indicate a lack of complete information. The CEO is a key figure in a company's leadership and their absence raises concerns about the transparency and completeness of the financial data. Similarly, the number of employees is an important metric for assessing the company's size and operational capacity.\n",
      "\n",
      "In conclusion, the discrepancies and missing information in HealthInc's financial data raise concerns about the accuracy, transparency, and completeness of the company's financial reporting. These gaps make it challenging to make a comprehensive assessment of HealthInc's financial health. Further investigation and clarification are needed to ensure the reliability of the financial data.\n"
     ]
    }
   ],
   "source": [
    "print(summary)"
   ]
  },
  {
   "cell_type": "code",
   "execution_count": 12,
   "metadata": {},
   "outputs": [
    {
     "name": "stdout",
     "output_type": "stream",
     "text": [
      "**Comparison Summary** =====================================   **Internal Data**  | Field | Value | | --- | --- | |\n",
      "Company Name | HealthInc | | Industry | Healthcare | | Market Capitalization | 3000 | | Revenue (in millions) | 1000 | |\n",
      "EBITDA (in millions) | 250 | | Net Income (in millions) | 80 | | Debt (in millions) | 150 | | Equity (in millions) | 600\n",
      "| | Enterprise Value (in millions) | 3150 | | P/E Ratio | 15 | | Revenue Growth Rate (%) | 12 | | EBITDA Margin (%) |\n",
      "25.0 | | Net Income Margin (%) | 8.0 | | ROE (Return on Equity) (%) | 13.33 | | ROA (Return on Assets) (%) | 10.0 | |\n",
      "Current Ratio | 2.0 | | Debt to Equity Ratio | 0.25 | | Location | New York |  **External Data**  | Field | Value | |\n",
      "--- | --- | | Company Name | HealthInc | | Industry | Healthcare | | Market Capitalization | 3000 | | Revenue (in\n",
      "millions) | 1000 | | EBITDA (in millions) | 250 | | Net Income (in millions) | 80 | | Debt (in millions) | 150 | |\n",
      "Equity (in millions) | 666 | | Enterprise Value (in millions) | 3150 | | P/E Ratio | 15 | | Revenue Growth Rate (%) | 12\n",
      "| | EBITDA Margin (%) | 40 | | Net Income Margin (%) | 8.0 | | ROE (Return on Equity) (%) | 13.33 | | ROA (Return on\n",
      "Assets) (%) | 10.0 | | Debt to Equity Ratio | 0.25 | | Location | New York, NY | | CEO | Jane Smith | | Number of\n",
      "Employees | 3000 |  **Discrepancies**  The following fields have discrepancies between the internal and external data\n",
      "sources:  * **Equity (in millions)**: Internal data reports an equity value of $600 million, while the external data\n",
      "reports a value of $666 million. * **EBITDA Margin (%)**: The internal data reports an EBITDA margin of 25.0%, while the\n",
      "external data reports a margin of 40%. * **Location**: The internal data reports the location as \"New York\", while the\n",
      "external data reports it as \"New York, NY\".  These discrepancies may impact the accuracy and reliability of the system's\n",
      "analysis and decision-making.  **Missing Fields**  The following fields are missing from the extracted data:  *\n",
      "**Current Ratio** (present in internal data but not in external data) * **CEO**, **Number of Employees** (present in\n",
      "external data but not in internal data)  These missing fields may be important for a comprehensive understanding of the\n",
      "company's financial performance and overall strategy.  **Summary**  The comparison between the internal and external\n",
      "data sources reveals discrepancies in several key fields, including equity, EBITDA margin, and location. Additionally,\n",
      "there are missing fields that provide valuable insights into the company's financial performance and overall strategy.\n",
      "To ensure the accuracy and reliability of the system's analysis and decision-making, it is essential to investigate\n",
      "these discrepancies and missing fields further.\n"
     ]
    }
   ],
   "source": [
    "#print(summary)\n",
    "import textwrap\n",
    "\n",
    "wrapped_text = textwrap.fill(summary, width=10) #text is the object which you want to print\n",
    "print(wrapped_text)"
   ]
  },
  {
   "cell_type": "code",
   "execution_count": null,
   "metadata": {},
   "outputs": [],
   "source": []
  }
 ],
 "metadata": {
  "kernelspec": {
   "display_name": ".venv",
   "language": "python",
   "name": "python3"
  },
  "language_info": {
   "codemirror_mode": {
    "name": "ipython",
    "version": 3
   },
   "file_extension": ".py",
   "mimetype": "text/x-python",
   "name": "python",
   "nbconvert_exporter": "python",
   "pygments_lexer": "ipython3",
   "version": "3.12.4"
  }
 },
 "nbformat": 4,
 "nbformat_minor": 2
}
